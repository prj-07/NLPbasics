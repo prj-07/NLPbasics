{
  "nbformat": 4,
  "nbformat_minor": 0,
  "metadata": {
    "colab": {
      "provenance": [],
      "authorship_tag": "ABX9TyPLEOUIucmkn4uqLqXJeM+f",
      "include_colab_link": true
    },
    "kernelspec": {
      "name": "python3",
      "display_name": "Python 3"
    },
    "language_info": {
      "name": "python"
    }
  },
  "cells": [
    {
      "cell_type": "markdown",
      "metadata": {
        "id": "view-in-github",
        "colab_type": "text"
      },
      "source": [
        "<a href=\"https://colab.research.google.com/github/prj-07/NLPbasics/blob/main/nltk0tohero.ipynb\" target=\"_parent\"><img src=\"https://colab.research.google.com/assets/colab-badge.svg\" alt=\"Open In Colab\"/></a>"
      ]
    },
    {
      "cell_type": "code",
      "execution_count": 1,
      "metadata": {
        "id": "yIDbnPyyok4o"
      },
      "outputs": [],
      "source": [
        "import nltk "
      ]
    },
    {
      "cell_type": "code",
      "source": [
        "para = \"\"\" Mahendra Singh Dhoni (/məˈheɪndrə ˈsɪŋ dhæˈnɪ/ (listen); born 7 July 1981) is an Indian former international cricketer who was captain of the Indian national cricket team in limited-overs formats from 2007 to 2017 and in Test cricket from 2008 to 2014. He is also the current captain of CSK in the IPL. He led India to victory in three ICC trophies 2007 ICC World Twenty20, 2011 Cricket World Cup and 2013 ICC Champions Trophy, the most by any Indian captain. Under his captaincy India also won 2010 and 2016 Asia Cup. Also under his leadership India won 2010 and 2011 ICC Test Mace and 2013 ICC ODI Championship. A right-handed wicket-keeper batsman.[2] He scored over 10,000 runs in One Day Internationals, with the reputation as one of the best finishers in the game. He is also one of the greatest wicket-keepers in the history of cricket.\n",
        "\n",
        "In Indian domestic cricket he played for Bihar and Jharkhand Cricket team. He is the captain of Chennai Super Kings (CSK) in the Indian Premier League. He captained the side to championships in the 2010, 2011, 2018 and 2021 editions of IPL league. Also under his captaincy Chennai Super Kings (CSK) Won Champions League T20 two times, in 2010 and 2014.\n",
        "\n",
        "Dhoni made his ODI debut on 23 December 2004, against Bangladesh in Chittagong,[3] and played his first Test a year later against Sri Lanka.[4] He played his first T20I also a year later against South Africa.[5] In 2007, he took over the ODI captaincy from Rahul Dravid and he also selected as T20I captain of India in this year.[6] In 2008, he was selected as Test captain.[7] His captaincy record in Tests format was mixed, successfully leading India to a series win against New Zealand in 2008 and the Border-Gavaskar Trophy (home series in 2010 and 2013) against Australia while losing to Sri Lanka, Australia, England, and South Africa by big margins in away conditions.[8]  \"\"\""
      ],
      "metadata": {
        "id": "J3LhmmdOooFj"
      },
      "execution_count": 2,
      "outputs": []
    },
    {
      "cell_type": "code",
      "source": [
        "from nltk.stem  import PorterStemmer\n",
        "from nltk.stem  import WordNetLemmatizer\n",
        "from nltk.corpus import stopwords"
      ],
      "metadata": {
        "id": "bCC2ZXFopPic"
      },
      "execution_count": 7,
      "outputs": []
    },
    {
      "cell_type": "code",
      "source": [
        "stemmer = PorterStemmer()"
      ],
      "metadata": {
        "id": "zp6hBXO5pcKl"
      },
      "execution_count": 4,
      "outputs": []
    },
    {
      "cell_type": "code",
      "source": [],
      "metadata": {
        "id": "eD8JyVRBpfJw"
      },
      "execution_count": null,
      "outputs": []
    },
    {
      "cell_type": "markdown",
      "source": [
        "##tokenizing para"
      ],
      "metadata": {
        "id": "JGiqm0Qrpj8J"
      }
    },
    {
      "cell_type": "code",
      "source": [
        "nltk.download('punkt')\n",
        "sentences = nltk.sent_tokenize(para)"
      ],
      "metadata": {
        "colab": {
          "base_uri": "https://localhost:8080/"
        },
        "id": "HX-6dPr2pl5W",
        "outputId": "6cefe323-694d-4768-ca59-35929a100185"
      },
      "execution_count": 5,
      "outputs": [
        {
          "output_type": "stream",
          "name": "stderr",
          "text": [
            "[nltk_data] Downloading package punkt to /root/nltk_data...\n",
            "[nltk_data]   Unzipping tokenizers/punkt.zip.\n"
          ]
        }
      ]
    },
    {
      "cell_type": "code",
      "source": [
        "sentences"
      ],
      "metadata": {
        "colab": {
          "base_uri": "https://localhost:8080/"
        },
        "id": "DkSEUy-rpyP6",
        "outputId": "84556e3d-9a2b-40f5-e64d-429af9ec2157"
      },
      "execution_count": 6,
      "outputs": [
        {
          "output_type": "execute_result",
          "data": {
            "text/plain": [
              "[' Mahendra Singh Dhoni (/məˈheɪndrə ˈsɪŋ dhæˈnɪ/ (listen); born 7 July 1981) is an Indian former international cricketer who was captain of the Indian national cricket team in limited-overs formats from 2007 to 2017 and in Test cricket from 2008 to 2014.',\n",
              " 'He is also the current captain of CSK in the IPL.',\n",
              " 'He led India to victory in three ICC trophies 2007 ICC World Twenty20, 2011 Cricket World Cup and 2013 ICC Champions Trophy, the most by any Indian captain.',\n",
              " 'Under his captaincy India also won 2010 and 2016 Asia Cup.',\n",
              " 'Also under his leadership India won 2010 and 2011 ICC Test Mace and 2013 ICC ODI Championship.',\n",
              " 'A right-handed wicket-keeper batsman.',\n",
              " '[2] He scored over 10,000 runs in One Day Internationals, with the reputation as one of the best finishers in the game.',\n",
              " 'He is also one of the greatest wicket-keepers in the history of cricket.',\n",
              " 'In Indian domestic cricket he played for Bihar and Jharkhand Cricket team.',\n",
              " 'He is the captain of Chennai Super Kings (CSK) in the Indian Premier League.',\n",
              " 'He captained the side to championships in the 2010, 2011, 2018 and 2021 editions of IPL league.',\n",
              " 'Also under his captaincy Chennai Super Kings (CSK) Won Champions League T20 two times, in 2010 and 2014.',\n",
              " 'Dhoni made his ODI debut on 23 December 2004, against Bangladesh in Chittagong,[3] and played his first Test a year later against Sri Lanka.',\n",
              " '[4] He played his first T20I also a year later against South Africa.',\n",
              " '[5] In 2007, he took over the ODI captaincy from Rahul Dravid and he also selected as T20I captain of India in this year.',\n",
              " '[6] In 2008, he was selected as Test captain.',\n",
              " '[7] His captaincy record in Tests format was mixed, successfully leading India to a series win against New Zealand in 2008 and the Border-Gavaskar Trophy (home series in 2010 and 2013) against Australia while losing to Sri Lanka, Australia, England, and South Africa by big margins in away conditions.',\n",
              " '[8]']"
            ]
          },
          "metadata": {},
          "execution_count": 6
        }
      ]
    },
    {
      "cell_type": "code",
      "source": [
        "lemmatizer = WordNetLemmatizer()"
      ],
      "metadata": {
        "id": "51P2NVtEp2MU"
      },
      "execution_count": 9,
      "outputs": []
    },
    {
      "cell_type": "markdown",
      "source": [
        "##clean the text "
      ],
      "metadata": {
        "id": "cF_OlgYtqdlo"
      }
    },
    {
      "cell_type": "code",
      "source": [
        "len(sentences)"
      ],
      "metadata": {
        "colab": {
          "base_uri": "https://localhost:8080/"
        },
        "id": "HlJEdV6kqRCr",
        "outputId": "8d578f54-2dff-432e-c466-f8aab14266ca"
      },
      "execution_count": 10,
      "outputs": [
        {
          "output_type": "execute_result",
          "data": {
            "text/plain": [
              "18"
            ]
          },
          "metadata": {},
          "execution_count": 10
        }
      ]
    },
    {
      "cell_type": "code",
      "source": [
        "##we have 18 sentences in our dataset now ...we must clean them first "
      ],
      "metadata": {
        "id": "8lKw3TDOql23"
      },
      "execution_count": 11,
      "outputs": []
    },
    {
      "cell_type": "code",
      "source": [
        "import re\n",
        "corpus = []\n",
        "for i in range(len(sentences)):\n",
        "  review  = re.sub('[^a-zA-Z]',' ',sentences[i]) ##to remove non alphabetic characteer from data and replace it by blank ' ' space re.substitute\n",
        "  review = review.lower()\n",
        "  corpus.append(review)"
      ],
      "metadata": {
        "id": "q-H0M502qrnV"
      },
      "execution_count": 13,
      "outputs": []
    },
    {
      "cell_type": "code",
      "source": [
        "corpus"
      ],
      "metadata": {
        "colab": {
          "base_uri": "https://localhost:8080/"
        },
        "id": "ieNXCozKrHsB",
        "outputId": "3d5c2e2a-4016-4c3e-e85b-e7ecfaf12235"
      },
      "execution_count": 14,
      "outputs": [
        {
          "output_type": "execute_result",
          "data": {
            "text/plain": [
              "[' mahendra singh dhoni   m  he ndr   s   dh  n    listen   born   july       is an indian former international cricketer who was captain of the indian national cricket team in limited overs formats from      to      and in test cricket from      to      ',\n",
              " 'he is also the current captain of csk in the ipl ',\n",
              " 'he led india to victory in three icc trophies      icc world twenty         cricket world cup and      icc champions trophy  the most by any indian captain ',\n",
              " 'under his captaincy india also won      and      asia cup ',\n",
              " 'also under his leadership india won      and      icc test mace and      icc odi championship ',\n",
              " 'a right handed wicket keeper batsman ',\n",
              " '    he scored over        runs in one day internationals  with the reputation as one of the best finishers in the game ',\n",
              " 'he is also one of the greatest wicket keepers in the history of cricket ',\n",
              " 'in indian domestic cricket he played for bihar and jharkhand cricket team ',\n",
              " 'he is the captain of chennai super kings  csk  in the indian premier league ',\n",
              " 'he captained the side to championships in the                  and      editions of ipl league ',\n",
              " 'also under his captaincy chennai super kings  csk  won champions league t   two times  in      and      ',\n",
              " 'dhoni made his odi debut on    december       against bangladesh in chittagong     and played his first test a year later against sri lanka ',\n",
              " '    he played his first t  i also a year later against south africa ',\n",
              " '    in       he took over the odi captaincy from rahul dravid and he also selected as t  i captain of india in this year ',\n",
              " '    in       he was selected as test captain ',\n",
              " '    his captaincy record in tests format was mixed  successfully leading india to a series win against new zealand in      and the border gavaskar trophy  home series in      and       against australia while losing to sri lanka  australia  england  and south africa by big margins in away conditions ',\n",
              " '   ']"
            ]
          },
          "metadata": {},
          "execution_count": 14
        }
      ]
    },
    {
      "cell_type": "code",
      "source": [
        "##we need to apply stemming  the words ...pehle corpus me se setence nikaalo ...sentences me se words then stemming karo "
      ],
      "metadata": {
        "id": "L7NDYEnJrkTY"
      },
      "execution_count": 16,
      "outputs": []
    },
    {
      "cell_type": "code",
      "source": [
        " nltk.download('stopwords')"
      ],
      "metadata": {
        "colab": {
          "base_uri": "https://localhost:8080/"
        },
        "id": "4-TwssDQuzs5",
        "outputId": "eabf1f5e-5b35-437d-88e3-f1335199297d"
      },
      "execution_count": 18,
      "outputs": [
        {
          "output_type": "stream",
          "name": "stderr",
          "text": [
            "[nltk_data] Downloading package stopwords to /root/nltk_data...\n",
            "[nltk_data]   Unzipping corpora/stopwords.zip.\n"
          ]
        },
        {
          "output_type": "execute_result",
          "data": {
            "text/plain": [
              "True"
            ]
          },
          "metadata": {},
          "execution_count": 18
        }
      ]
    },
    {
      "cell_type": "markdown",
      "source": [],
      "metadata": {
        "id": "RPskbX2irp_X"
      }
    },
    {
      "cell_type": "code",
      "source": [
        "for i in  corpus:\n",
        "  words = nltk.word_tokenize(i)\n",
        "  for word in words:\n",
        "    if word not in set(stopwords.words('english')):\n",
        "      print(stemmer.stem(word))"
      ],
      "metadata": {
        "id": "XSgQC1RttJVV"
      },
      "execution_count": null,
      "outputs": []
    },
    {
      "cell_type": "markdown",
      "source": [
        "##BAG OF WORDS"
      ],
      "metadata": {
        "id": "xhKmQ7YgvVnY"
      }
    },
    {
      "cell_type": "code",
      "source": [
        "from sklearn.feature_extraction.text import CountVectorizer\n",
        "cv  = CountVectorizer()"
      ],
      "metadata": {
        "id": "WGDe_1nLupP5"
      },
      "execution_count": 20,
      "outputs": []
    },
    {
      "cell_type": "code",
      "source": [
        "X = cv.fit_transform(corpus)"
      ],
      "metadata": {
        "id": "xHJP5-e6vKty"
      },
      "execution_count": 21,
      "outputs": []
    },
    {
      "cell_type": "code",
      "source": [
        "cv.vocabulary_"
      ],
      "metadata": {
        "colab": {
          "base_uri": "https://localhost:8080/"
        },
        "id": "sT9HXbzcvR9v",
        "outputId": "202a7d34-11c1-4e34-cd21-1fd7a2c5605a"
      },
      "execution_count": 22,
      "outputs": [
        {
          "output_type": "execute_result",
          "data": {
            "text/plain": [
              "{'mahendra': 80,\n",
              " 'singh': 104,\n",
              " 'dhoni': 36,\n",
              " 'he': 52,\n",
              " 'ndr': 85,\n",
              " 'dh': 35,\n",
              " 'listen': 76,\n",
              " 'born': 16,\n",
              " 'july': 65,\n",
              " 'is': 63,\n",
              " 'an': 3,\n",
              " 'indian': 59,\n",
              " 'former': 46,\n",
              " 'international': 60,\n",
              " 'cricketer': 28,\n",
              " 'who': 126,\n",
              " 'was': 124,\n",
              " 'captain': 18,\n",
              " 'of': 88,\n",
              " 'the': 112,\n",
              " 'national': 84,\n",
              " 'cricket': 27,\n",
              " 'team': 109,\n",
              " 'in': 57,\n",
              " 'limited': 75,\n",
              " 'overs': 92,\n",
              " 'formats': 45,\n",
              " 'from': 47,\n",
              " 'to': 116,\n",
              " 'and': 4,\n",
              " 'test': 110,\n",
              " 'also': 2,\n",
              " 'current': 31,\n",
              " 'csk': 29,\n",
              " 'ipl': 62,\n",
              " 'led': 74,\n",
              " 'india': 58,\n",
              " 'victory': 123,\n",
              " 'three': 114,\n",
              " 'icc': 56,\n",
              " 'trophies': 118,\n",
              " 'world': 131,\n",
              " 'twenty': 120,\n",
              " 'cup': 30,\n",
              " 'champions': 21,\n",
              " 'trophy': 119,\n",
              " 'most': 83,\n",
              " 'by': 17,\n",
              " 'any': 5,\n",
              " 'under': 122,\n",
              " 'his': 53,\n",
              " 'captaincy': 19,\n",
              " 'won': 130,\n",
              " 'asia': 7,\n",
              " 'leadership': 71,\n",
              " 'mace': 78,\n",
              " 'odi': 87,\n",
              " 'championship': 22,\n",
              " 'right': 98,\n",
              " 'handed': 51,\n",
              " 'wicket': 127,\n",
              " 'keeper': 66,\n",
              " 'batsman': 11,\n",
              " 'scored': 100,\n",
              " 'over': 91,\n",
              " 'runs': 99,\n",
              " 'one': 90,\n",
              " 'day': 32,\n",
              " 'internationals': 61,\n",
              " 'with': 129,\n",
              " 'reputation': 97,\n",
              " 'as': 6,\n",
              " 'best': 12,\n",
              " 'finishers': 41,\n",
              " 'game': 48,\n",
              " 'greatest': 50,\n",
              " 'keepers': 67,\n",
              " 'history': 54,\n",
              " 'domestic': 37,\n",
              " 'played': 93,\n",
              " 'for': 43,\n",
              " 'bihar': 14,\n",
              " 'jharkhand': 64,\n",
              " 'chennai': 24,\n",
              " 'super': 108,\n",
              " 'kings': 68,\n",
              " 'premier': 94,\n",
              " 'league': 73,\n",
              " 'captained': 20,\n",
              " 'side': 103,\n",
              " 'championships': 23,\n",
              " 'editions': 39,\n",
              " 'two': 121,\n",
              " 'times': 115,\n",
              " 'made': 79,\n",
              " 'debut': 33,\n",
              " 'on': 89,\n",
              " 'december': 34,\n",
              " 'against': 1,\n",
              " 'bangladesh': 10,\n",
              " 'chittagong': 25,\n",
              " 'first': 42,\n",
              " 'year': 132,\n",
              " 'later': 70,\n",
              " 'sri': 106,\n",
              " 'lanka': 69,\n",
              " 'south': 105,\n",
              " 'africa': 0,\n",
              " 'took': 117,\n",
              " 'rahul': 95,\n",
              " 'dravid': 38,\n",
              " 'selected': 101,\n",
              " 'this': 113,\n",
              " 'record': 96,\n",
              " 'tests': 111,\n",
              " 'format': 44,\n",
              " 'mixed': 82,\n",
              " 'successfully': 107,\n",
              " 'leading': 72,\n",
              " 'series': 102,\n",
              " 'win': 128,\n",
              " 'new': 86,\n",
              " 'zealand': 133,\n",
              " 'border': 15,\n",
              " 'gavaskar': 49,\n",
              " 'home': 55,\n",
              " 'australia': 8,\n",
              " 'while': 125,\n",
              " 'losing': 77,\n",
              " 'england': 40,\n",
              " 'big': 13,\n",
              " 'margins': 81,\n",
              " 'away': 9,\n",
              " 'conditions': 26}"
            ]
          },
          "metadata": {},
          "execution_count": 22
        }
      ]
    },
    {
      "cell_type": "code",
      "source": [
        "corpus[0]"
      ],
      "metadata": {
        "colab": {
          "base_uri": "https://localhost:8080/",
          "height": 53
        },
        "id": "_w_w2c07veDH",
        "outputId": "882a99b1-96df-448e-bcd5-8ce0996a5b68"
      },
      "execution_count": 23,
      "outputs": [
        {
          "output_type": "execute_result",
          "data": {
            "text/plain": [
              "' mahendra singh dhoni   m  he ndr   s   dh  n    listen   born   july       is an indian former international cricketer who was captain of the indian national cricket team in limited overs formats from      to      and in test cricket from      to      '"
            ],
            "application/vnd.google.colaboratory.intrinsic+json": {
              "type": "string"
            }
          },
          "metadata": {},
          "execution_count": 23
        }
      ]
    },
    {
      "cell_type": "code",
      "source": [
        "X[0] ##corresponds to corpus  0  "
      ],
      "metadata": {
        "colab": {
          "base_uri": "https://localhost:8080/"
        },
        "id": "7JKSInADvtgD",
        "outputId": "237ac319-7d55-4421-8d4b-05822e4c554d"
      },
      "execution_count": 26,
      "outputs": [
        {
          "output_type": "execute_result",
          "data": {
            "text/plain": [
              "<1x134 sparse matrix of type '<class 'numpy.int64'>'\n",
              "\twith 31 stored elements in Compressed Sparse Row format>"
            ]
          },
          "metadata": {},
          "execution_count": 26
        }
      ]
    },
    {
      "cell_type": "code",
      "source": [
        "X[0].toarray()"
      ],
      "metadata": {
        "colab": {
          "base_uri": "https://localhost:8080/"
        },
        "id": "jWh7d-H6vjoN",
        "outputId": "837dfa74-f1e8-4791-aeb3-76558469dee2"
      },
      "execution_count": 25,
      "outputs": [
        {
          "output_type": "execute_result",
          "data": {
            "text/plain": [
              "array([[0, 0, 0, 1, 1, 0, 0, 0, 0, 0, 0, 0, 0, 0, 0, 0, 1, 0, 1, 0, 0, 0,\n",
              "        0, 0, 0, 0, 0, 2, 1, 0, 0, 0, 0, 0, 0, 1, 1, 0, 0, 0, 0, 0, 0, 0,\n",
              "        0, 1, 1, 2, 0, 0, 0, 0, 1, 0, 0, 0, 0, 2, 0, 2, 1, 0, 0, 1, 0, 1,\n",
              "        0, 0, 0, 0, 0, 0, 0, 0, 0, 1, 1, 0, 0, 0, 1, 0, 0, 0, 1, 1, 0, 0,\n",
              "        1, 0, 0, 0, 1, 0, 0, 0, 0, 0, 0, 0, 0, 0, 0, 0, 1, 0, 0, 0, 0, 1,\n",
              "        1, 0, 1, 0, 0, 0, 2, 0, 0, 0, 0, 0, 0, 0, 1, 0, 1, 0, 0, 0, 0, 0,\n",
              "        0, 0]])"
            ]
          },
          "metadata": {},
          "execution_count": 25
        }
      ]
    },
    {
      "cell_type": "markdown",
      "source": [
        "##TF-IDF"
      ],
      "metadata": {
        "id": "p4DRyjRPwGEv"
      }
    },
    {
      "cell_type": "code",
      "source": [
        "from sklearn.feature_extraction.text import TfidfVectorizer"
      ],
      "metadata": {
        "id": "ybcvlELhvoXW"
      },
      "execution_count": 27,
      "outputs": []
    },
    {
      "cell_type": "code",
      "source": [
        "cv=TfidfVectorizer()\n",
        "X = cv.fit_transform(corpus)"
      ],
      "metadata": {
        "id": "T34hlFoLx_BG"
      },
      "execution_count": 28,
      "outputs": []
    },
    {
      "cell_type": "code",
      "source": [
        "corpus[0]"
      ],
      "metadata": {
        "colab": {
          "base_uri": "https://localhost:8080/",
          "height": 53
        },
        "id": "fKSfArNtyICv",
        "outputId": "dc923c44-147e-40b4-e5c2-609a9ba24b9e"
      },
      "execution_count": 29,
      "outputs": [
        {
          "output_type": "execute_result",
          "data": {
            "text/plain": [
              "' mahendra singh dhoni   m  he ndr   s   dh  n    listen   born   july       is an indian former international cricketer who was captain of the indian national cricket team in limited overs formats from      to      and in test cricket from      to      '"
            ],
            "application/vnd.google.colaboratory.intrinsic+json": {
              "type": "string"
            }
          },
          "metadata": {},
          "execution_count": 29
        }
      ]
    },
    {
      "cell_type": "code",
      "source": [
        "X[0].toarray()"
      ],
      "metadata": {
        "colab": {
          "base_uri": "https://localhost:8080/"
        },
        "id": "9qUPxFG9yJiX",
        "outputId": "859e273e-9f07-42c3-a15b-3141ea134cac"
      },
      "execution_count": 30,
      "outputs": [
        {
          "output_type": "execute_result",
          "data": {
            "text/plain": [
              "array([[0.        , 0.        , 0.        , 0.18115697, 0.08617103,\n",
              "        0.        , 0.        , 0.        , 0.        , 0.        ,\n",
              "        0.        , 0.        , 0.        , 0.        , 0.        ,\n",
              "        0.        , 0.18115697, 0.        , 0.11135495, 0.        ,\n",
              "        0.        , 0.        , 0.        , 0.        , 0.        ,\n",
              "        0.        , 0.        , 0.26020533, 0.18115697, 0.        ,\n",
              "        0.        , 0.        , 0.        , 0.        , 0.        ,\n",
              "        0.18115697, 0.15856508, 0.        , 0.        , 0.        ,\n",
              "        0.        , 0.        , 0.        , 0.        , 0.        ,\n",
              "        0.18115697, 0.18115697, 0.31713016, 0.        , 0.        ,\n",
              "        0.        , 0.        , 0.08132289, 0.        , 0.        ,\n",
              "        0.        , 0.        , 0.14546771, 0.        , 0.26020533,\n",
              "        0.18115697, 0.        , 0.        , 0.13010266, 0.        ,\n",
              "        0.18115697, 0.        , 0.        , 0.        , 0.        ,\n",
              "        0.        , 0.        , 0.        , 0.        , 0.        ,\n",
              "        0.18115697, 0.18115697, 0.        , 0.        , 0.        ,\n",
              "        0.18115697, 0.        , 0.        , 0.        , 0.18115697,\n",
              "        0.18115697, 0.        , 0.        , 0.10391478, 0.        ,\n",
              "        0.        , 0.        , 0.18115697, 0.        , 0.        ,\n",
              "        0.        , 0.        , 0.        , 0.        , 0.        ,\n",
              "        0.        , 0.        , 0.        , 0.        , 0.18115697,\n",
              "        0.        , 0.        , 0.        , 0.        , 0.15856508,\n",
              "        0.13010266, 0.        , 0.09148157, 0.        , 0.        ,\n",
              "        0.        , 0.26020533, 0.        , 0.        , 0.        ,\n",
              "        0.        , 0.        , 0.        , 0.        , 0.14253588,\n",
              "        0.        , 0.18115697, 0.        , 0.        , 0.        ,\n",
              "        0.        , 0.        , 0.        , 0.        ]])"
            ]
          },
          "metadata": {},
          "execution_count": 30
        }
      ]
    },
    {
      "cell_type": "code",
      "source": [],
      "metadata": {
        "id": "r3QS7lMPyOBn"
      },
      "execution_count": null,
      "outputs": []
    }
  ]
}