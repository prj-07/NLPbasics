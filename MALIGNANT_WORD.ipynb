{
  "nbformat": 4,
  "nbformat_minor": 0,
  "metadata": {
    "colab": {
      "provenance": [],
      "authorship_tag": "ABX9TyOEpWseVC2fm7aHVEKck+Pm",
      "include_colab_link": true
    },
    "kernelspec": {
      "name": "python3",
      "display_name": "Python 3"
    },
    "language_info": {
      "name": "python"
    },
    "accelerator": "GPU",
    "gpuClass": "standard"
  },
  "cells": [
    {
      "cell_type": "markdown",
      "metadata": {
        "id": "view-in-github",
        "colab_type": "text"
      },
      "source": [
        "<a href=\"https://colab.research.google.com/github/prj-07/NLPbasics/blob/main/MALIGNANT_WORD.ipynb\" target=\"_parent\"><img src=\"https://colab.research.google.com/assets/colab-badge.svg\" alt=\"Open In Colab\"/></a>"
      ]
    },
    {
      "cell_type": "code",
      "execution_count": 1,
      "metadata": {
        "id": "9qDhOSv9W7z1"
      },
      "outputs": [],
      "source": [
        "!pip install  opendatasets --quiet\n",
        "import opendatasets as od "
      ]
    },
    {
      "cell_type": "code",
      "source": [
        "od.download('https://www.kaggle.com/datasets/surekharamireddy/malignant-comment-classification')"
      ],
      "metadata": {
        "colab": {
          "base_uri": "https://localhost:8080/"
        },
        "id": "c-3f26nYXKWl",
        "outputId": "34808775-ac86-43b6-9a2a-72a020a21744"
      },
      "execution_count": 2,
      "outputs": [
        {
          "output_type": "stream",
          "name": "stdout",
          "text": [
            "Please provide your Kaggle credentials to download this dataset. Learn more: http://bit.ly/kaggle-creds\n",
            "Your Kaggle username: pratyushraj07\n",
            "Your Kaggle Key: ··········\n",
            "Downloading malignant-comment-classification.zip to ./malignant-comment-classification\n"
          ]
        },
        {
          "output_type": "stream",
          "name": "stderr",
          "text": [
            "100%|██████████| 50.5M/50.5M [00:03<00:00, 14.7MB/s]\n"
          ]
        },
        {
          "output_type": "stream",
          "name": "stdout",
          "text": [
            "\n"
          ]
        }
      ]
    },
    {
      "cell_type": "code",
      "source": [
        "import pandas as pd"
      ],
      "metadata": {
        "id": "_rC80jx3ZTz3"
      },
      "execution_count": 3,
      "outputs": []
    },
    {
      "cell_type": "code",
      "source": [
        "train_df = pd.read_csv('malignant-comment-classification/train.csv')"
      ],
      "metadata": {
        "id": "_M7Jez_VXhlB"
      },
      "execution_count": 4,
      "outputs": []
    },
    {
      "cell_type": "code",
      "source": [
        "df = train_df"
      ],
      "metadata": {
        "id": "hLX61PQCZXGj"
      },
      "execution_count": 5,
      "outputs": []
    },
    {
      "cell_type": "code",
      "source": [
        "df.sample(15)"
      ],
      "metadata": {
        "colab": {
          "base_uri": "https://localhost:8080/",
          "height": 520
        },
        "id": "2OOkQE3uZf-8",
        "outputId": "f74712a1-c8c4-43b1-9f09-7274c74515e2"
      },
      "execution_count": 6,
      "outputs": [
        {
          "output_type": "execute_result",
          "data": {
            "text/plain": [
              "                      id                                       comment_text  \\\n",
              "106848  3b6153eaeb00dee1  \"\\n\\n Alicia Rickter's parents name \\n\\nHi Dis...   \n",
              "9111    1847acaa9c32ef1a  Someone needs to confirm the release date that...   \n",
              "82126   dbb38730595b7ef3  F-16 Fightiing Falcon Photo captions\\n\\nPer yo...   \n",
              "123007  920e0fa7897b7a41  Once again, SHAME ON YOU MONSTERS! Recognize t...   \n",
              "102454  24473c18916a858e  \"\\n\\nI'm not pro or anti Richards. Some things...   \n",
              "101883  212bb5353596ae02  \"\\n\\n They always will be, a history of conque...   \n",
              "64535   acb74ea1396303b9  \"\\nMy mistake; I should've said \"\"hebephilia\"\"...   \n",
              "40140   6b2098045b76d70c  \"\\n Frosty is however the most notable use of ...   \n",
              "111546  54bb3a15477f2711  |decline=Under the circumstances, I suggest th...   \n",
              "118083  76cd4cfe6589a02d  Yeah backfire is a very good word for it and I...   \n",
              "55253   93951913a2bec269  Fair enough, at least you are asking for more ...   \n",
              "91770   f55505dc36a0202f  \"\\n\\nThe guideline says \"\"An organization is g...   \n",
              "6168    107663abacd66ff1  \"\\n\\n Not sure what you mean by \"\"already was ...   \n",
              "48801   827ad179b58ef6c2  \"\\nYeah well, I didn't appreciate Kelapstick's...   \n",
              "79707   d540ed03656570e2  PS As for the coffee...  Both photos are techn...   \n",
              "\n",
              "        malignant  highly_malignant  rude  threat  abuse  loathe  \n",
              "106848          0                 0     0       0      0       0  \n",
              "9111            0                 0     0       0      0       0  \n",
              "82126           0                 0     0       0      0       0  \n",
              "123007          1                 0     1       0      1       0  \n",
              "102454          0                 0     0       0      0       0  \n",
              "101883          0                 0     0       0      0       0  \n",
              "64535           0                 0     0       0      0       0  \n",
              "40140           0                 0     0       0      0       0  \n",
              "111546          0                 0     0       0      0       0  \n",
              "118083          0                 0     0       0      0       0  \n",
              "55253           0                 0     0       0      0       0  \n",
              "91770           0                 0     0       0      0       0  \n",
              "6168            0                 0     0       0      0       0  \n",
              "48801           0                 0     0       0      0       0  \n",
              "79707           0                 0     0       0      0       0  "
            ],
            "text/html": [
              "\n",
              "  <div id=\"df-5ca4cd5a-a5b1-4a47-a264-aca3cbedb669\">\n",
              "    <div class=\"colab-df-container\">\n",
              "      <div>\n",
              "<style scoped>\n",
              "    .dataframe tbody tr th:only-of-type {\n",
              "        vertical-align: middle;\n",
              "    }\n",
              "\n",
              "    .dataframe tbody tr th {\n",
              "        vertical-align: top;\n",
              "    }\n",
              "\n",
              "    .dataframe thead th {\n",
              "        text-align: right;\n",
              "    }\n",
              "</style>\n",
              "<table border=\"1\" class=\"dataframe\">\n",
              "  <thead>\n",
              "    <tr style=\"text-align: right;\">\n",
              "      <th></th>\n",
              "      <th>id</th>\n",
              "      <th>comment_text</th>\n",
              "      <th>malignant</th>\n",
              "      <th>highly_malignant</th>\n",
              "      <th>rude</th>\n",
              "      <th>threat</th>\n",
              "      <th>abuse</th>\n",
              "      <th>loathe</th>\n",
              "    </tr>\n",
              "  </thead>\n",
              "  <tbody>\n",
              "    <tr>\n",
              "      <th>106848</th>\n",
              "      <td>3b6153eaeb00dee1</td>\n",
              "      <td>\"\\n\\n Alicia Rickter's parents name \\n\\nHi Dis...</td>\n",
              "      <td>0</td>\n",
              "      <td>0</td>\n",
              "      <td>0</td>\n",
              "      <td>0</td>\n",
              "      <td>0</td>\n",
              "      <td>0</td>\n",
              "    </tr>\n",
              "    <tr>\n",
              "      <th>9111</th>\n",
              "      <td>1847acaa9c32ef1a</td>\n",
              "      <td>Someone needs to confirm the release date that...</td>\n",
              "      <td>0</td>\n",
              "      <td>0</td>\n",
              "      <td>0</td>\n",
              "      <td>0</td>\n",
              "      <td>0</td>\n",
              "      <td>0</td>\n",
              "    </tr>\n",
              "    <tr>\n",
              "      <th>82126</th>\n",
              "      <td>dbb38730595b7ef3</td>\n",
              "      <td>F-16 Fightiing Falcon Photo captions\\n\\nPer yo...</td>\n",
              "      <td>0</td>\n",
              "      <td>0</td>\n",
              "      <td>0</td>\n",
              "      <td>0</td>\n",
              "      <td>0</td>\n",
              "      <td>0</td>\n",
              "    </tr>\n",
              "    <tr>\n",
              "      <th>123007</th>\n",
              "      <td>920e0fa7897b7a41</td>\n",
              "      <td>Once again, SHAME ON YOU MONSTERS! Recognize t...</td>\n",
              "      <td>1</td>\n",
              "      <td>0</td>\n",
              "      <td>1</td>\n",
              "      <td>0</td>\n",
              "      <td>1</td>\n",
              "      <td>0</td>\n",
              "    </tr>\n",
              "    <tr>\n",
              "      <th>102454</th>\n",
              "      <td>24473c18916a858e</td>\n",
              "      <td>\"\\n\\nI'm not pro or anti Richards. Some things...</td>\n",
              "      <td>0</td>\n",
              "      <td>0</td>\n",
              "      <td>0</td>\n",
              "      <td>0</td>\n",
              "      <td>0</td>\n",
              "      <td>0</td>\n",
              "    </tr>\n",
              "    <tr>\n",
              "      <th>101883</th>\n",
              "      <td>212bb5353596ae02</td>\n",
              "      <td>\"\\n\\n They always will be, a history of conque...</td>\n",
              "      <td>0</td>\n",
              "      <td>0</td>\n",
              "      <td>0</td>\n",
              "      <td>0</td>\n",
              "      <td>0</td>\n",
              "      <td>0</td>\n",
              "    </tr>\n",
              "    <tr>\n",
              "      <th>64535</th>\n",
              "      <td>acb74ea1396303b9</td>\n",
              "      <td>\"\\nMy mistake; I should've said \"\"hebephilia\"\"...</td>\n",
              "      <td>0</td>\n",
              "      <td>0</td>\n",
              "      <td>0</td>\n",
              "      <td>0</td>\n",
              "      <td>0</td>\n",
              "      <td>0</td>\n",
              "    </tr>\n",
              "    <tr>\n",
              "      <th>40140</th>\n",
              "      <td>6b2098045b76d70c</td>\n",
              "      <td>\"\\n Frosty is however the most notable use of ...</td>\n",
              "      <td>0</td>\n",
              "      <td>0</td>\n",
              "      <td>0</td>\n",
              "      <td>0</td>\n",
              "      <td>0</td>\n",
              "      <td>0</td>\n",
              "    </tr>\n",
              "    <tr>\n",
              "      <th>111546</th>\n",
              "      <td>54bb3a15477f2711</td>\n",
              "      <td>|decline=Under the circumstances, I suggest th...</td>\n",
              "      <td>0</td>\n",
              "      <td>0</td>\n",
              "      <td>0</td>\n",
              "      <td>0</td>\n",
              "      <td>0</td>\n",
              "      <td>0</td>\n",
              "    </tr>\n",
              "    <tr>\n",
              "      <th>118083</th>\n",
              "      <td>76cd4cfe6589a02d</td>\n",
              "      <td>Yeah backfire is a very good word for it and I...</td>\n",
              "      <td>0</td>\n",
              "      <td>0</td>\n",
              "      <td>0</td>\n",
              "      <td>0</td>\n",
              "      <td>0</td>\n",
              "      <td>0</td>\n",
              "    </tr>\n",
              "    <tr>\n",
              "      <th>55253</th>\n",
              "      <td>93951913a2bec269</td>\n",
              "      <td>Fair enough, at least you are asking for more ...</td>\n",
              "      <td>0</td>\n",
              "      <td>0</td>\n",
              "      <td>0</td>\n",
              "      <td>0</td>\n",
              "      <td>0</td>\n",
              "      <td>0</td>\n",
              "    </tr>\n",
              "    <tr>\n",
              "      <th>91770</th>\n",
              "      <td>f55505dc36a0202f</td>\n",
              "      <td>\"\\n\\nThe guideline says \"\"An organization is g...</td>\n",
              "      <td>0</td>\n",
              "      <td>0</td>\n",
              "      <td>0</td>\n",
              "      <td>0</td>\n",
              "      <td>0</td>\n",
              "      <td>0</td>\n",
              "    </tr>\n",
              "    <tr>\n",
              "      <th>6168</th>\n",
              "      <td>107663abacd66ff1</td>\n",
              "      <td>\"\\n\\n Not sure what you mean by \"\"already was ...</td>\n",
              "      <td>0</td>\n",
              "      <td>0</td>\n",
              "      <td>0</td>\n",
              "      <td>0</td>\n",
              "      <td>0</td>\n",
              "      <td>0</td>\n",
              "    </tr>\n",
              "    <tr>\n",
              "      <th>48801</th>\n",
              "      <td>827ad179b58ef6c2</td>\n",
              "      <td>\"\\nYeah well, I didn't appreciate Kelapstick's...</td>\n",
              "      <td>0</td>\n",
              "      <td>0</td>\n",
              "      <td>0</td>\n",
              "      <td>0</td>\n",
              "      <td>0</td>\n",
              "      <td>0</td>\n",
              "    </tr>\n",
              "    <tr>\n",
              "      <th>79707</th>\n",
              "      <td>d540ed03656570e2</td>\n",
              "      <td>PS As for the coffee...  Both photos are techn...</td>\n",
              "      <td>0</td>\n",
              "      <td>0</td>\n",
              "      <td>0</td>\n",
              "      <td>0</td>\n",
              "      <td>0</td>\n",
              "      <td>0</td>\n",
              "    </tr>\n",
              "  </tbody>\n",
              "</table>\n",
              "</div>\n",
              "      <button class=\"colab-df-convert\" onclick=\"convertToInteractive('df-5ca4cd5a-a5b1-4a47-a264-aca3cbedb669')\"\n",
              "              title=\"Convert this dataframe to an interactive table.\"\n",
              "              style=\"display:none;\">\n",
              "        \n",
              "  <svg xmlns=\"http://www.w3.org/2000/svg\" height=\"24px\"viewBox=\"0 0 24 24\"\n",
              "       width=\"24px\">\n",
              "    <path d=\"M0 0h24v24H0V0z\" fill=\"none\"/>\n",
              "    <path d=\"M18.56 5.44l.94 2.06.94-2.06 2.06-.94-2.06-.94-.94-2.06-.94 2.06-2.06.94zm-11 1L8.5 8.5l.94-2.06 2.06-.94-2.06-.94L8.5 2.5l-.94 2.06-2.06.94zm10 10l.94 2.06.94-2.06 2.06-.94-2.06-.94-.94-2.06-.94 2.06-2.06.94z\"/><path d=\"M17.41 7.96l-1.37-1.37c-.4-.4-.92-.59-1.43-.59-.52 0-1.04.2-1.43.59L10.3 9.45l-7.72 7.72c-.78.78-.78 2.05 0 2.83L4 21.41c.39.39.9.59 1.41.59.51 0 1.02-.2 1.41-.59l7.78-7.78 2.81-2.81c.8-.78.8-2.07 0-2.86zM5.41 20L4 18.59l7.72-7.72 1.47 1.35L5.41 20z\"/>\n",
              "  </svg>\n",
              "      </button>\n",
              "      \n",
              "  <style>\n",
              "    .colab-df-container {\n",
              "      display:flex;\n",
              "      flex-wrap:wrap;\n",
              "      gap: 12px;\n",
              "    }\n",
              "\n",
              "    .colab-df-convert {\n",
              "      background-color: #E8F0FE;\n",
              "      border: none;\n",
              "      border-radius: 50%;\n",
              "      cursor: pointer;\n",
              "      display: none;\n",
              "      fill: #1967D2;\n",
              "      height: 32px;\n",
              "      padding: 0 0 0 0;\n",
              "      width: 32px;\n",
              "    }\n",
              "\n",
              "    .colab-df-convert:hover {\n",
              "      background-color: #E2EBFA;\n",
              "      box-shadow: 0px 1px 2px rgba(60, 64, 67, 0.3), 0px 1px 3px 1px rgba(60, 64, 67, 0.15);\n",
              "      fill: #174EA6;\n",
              "    }\n",
              "\n",
              "    [theme=dark] .colab-df-convert {\n",
              "      background-color: #3B4455;\n",
              "      fill: #D2E3FC;\n",
              "    }\n",
              "\n",
              "    [theme=dark] .colab-df-convert:hover {\n",
              "      background-color: #434B5C;\n",
              "      box-shadow: 0px 1px 3px 1px rgba(0, 0, 0, 0.15);\n",
              "      filter: drop-shadow(0px 1px 2px rgba(0, 0, 0, 0.3));\n",
              "      fill: #FFFFFF;\n",
              "    }\n",
              "  </style>\n",
              "\n",
              "      <script>\n",
              "        const buttonEl =\n",
              "          document.querySelector('#df-5ca4cd5a-a5b1-4a47-a264-aca3cbedb669 button.colab-df-convert');\n",
              "        buttonEl.style.display =\n",
              "          google.colab.kernel.accessAllowed ? 'block' : 'none';\n",
              "\n",
              "        async function convertToInteractive(key) {\n",
              "          const element = document.querySelector('#df-5ca4cd5a-a5b1-4a47-a264-aca3cbedb669');\n",
              "          const dataTable =\n",
              "            await google.colab.kernel.invokeFunction('convertToInteractive',\n",
              "                                                     [key], {});\n",
              "          if (!dataTable) return;\n",
              "\n",
              "          const docLinkHtml = 'Like what you see? Visit the ' +\n",
              "            '<a target=\"_blank\" href=https://colab.research.google.com/notebooks/data_table.ipynb>data table notebook</a>'\n",
              "            + ' to learn more about interactive tables.';\n",
              "          element.innerHTML = '';\n",
              "          dataTable['output_type'] = 'display_data';\n",
              "          await google.colab.output.renderOutput(dataTable, element);\n",
              "          const docLink = document.createElement('div');\n",
              "          docLink.innerHTML = docLinkHtml;\n",
              "          element.appendChild(docLink);\n",
              "        }\n",
              "      </script>\n",
              "    </div>\n",
              "  </div>\n",
              "  "
            ]
          },
          "metadata": {},
          "execution_count": 6
        }
      ]
    },
    {
      "cell_type": "code",
      "source": [
        "train_df.info()"
      ],
      "metadata": {
        "colab": {
          "base_uri": "https://localhost:8080/"
        },
        "id": "KpC1TZ-9ZlSG",
        "outputId": "253b459f-5b89-4d4c-9685-de7274cc6702"
      },
      "execution_count": 7,
      "outputs": [
        {
          "output_type": "stream",
          "name": "stdout",
          "text": [
            "<class 'pandas.core.frame.DataFrame'>\n",
            "RangeIndex: 159571 entries, 0 to 159570\n",
            "Data columns (total 8 columns):\n",
            " #   Column            Non-Null Count   Dtype \n",
            "---  ------            --------------   ----- \n",
            " 0   id                159571 non-null  object\n",
            " 1   comment_text      159571 non-null  object\n",
            " 2   malignant         159571 non-null  int64 \n",
            " 3   highly_malignant  159571 non-null  int64 \n",
            " 4   rude              159571 non-null  int64 \n",
            " 5   threat            159571 non-null  int64 \n",
            " 6   abuse             159571 non-null  int64 \n",
            " 7   loathe            159571 non-null  int64 \n",
            "dtypes: int64(6), object(2)\n",
            "memory usage: 9.7+ MB\n"
          ]
        }
      ]
    },
    {
      "cell_type": "code",
      "source": [
        "train_df.isnull().sum()"
      ],
      "metadata": {
        "colab": {
          "base_uri": "https://localhost:8080/"
        },
        "id": "fGjC0NFIaL4n",
        "outputId": "df5a5c52-0d8a-4bed-cb39-2ae6c74f3e46"
      },
      "execution_count": 8,
      "outputs": [
        {
          "output_type": "execute_result",
          "data": {
            "text/plain": [
              "id                  0\n",
              "comment_text        0\n",
              "malignant           0\n",
              "highly_malignant    0\n",
              "rude                0\n",
              "threat              0\n",
              "abuse               0\n",
              "loathe              0\n",
              "dtype: int64"
            ]
          },
          "metadata": {},
          "execution_count": 8
        }
      ]
    },
    {
      "cell_type": "code",
      "source": [
        "import pandas as pd\n",
        "import numpy as np\n",
        "from matplotlib import pyplot as plt\n",
        "import seaborn as sns\n",
        "import nltk\n",
        "import string\n",
        "from nltk.corpus import stopwords\n",
        "from nltk.tokenize import word_tokenize\n",
        "import nltk\n",
        "from nltk.stem import PorterStemmer, WordNetLemmatizer\n",
        "from wordcloud import WordCloud\n",
        "from sklearn.feature_extraction.text import TfidfVectorizer\n",
        "import xgboost\n",
        "#import eli5\n",
        "from sklearn.naive_bayes import MultinomialNB\n",
        "from sklearn.model_selection import train_test_split\n",
        "from sklearn.metrics import accuracy_score, confusion_matrix, classification_report,roc_curve,roc_auc_score,auc\n",
        "from sklearn.model_selection import train_test_split\n",
        "from sklearn.metrics import accuracy_score,classification_report,confusion_matrix,f1_score\n",
        "from sklearn.linear_model import LogisticRegression\n",
        "from sklearn.model_selection import cross_val_score,GridSearchCV\n",
        "from sklearn.naive_bayes import MultinomialNB\n",
        "from sklearn.tree import DecisionTreeClassifier\n",
        "from sklearn.neighbors import KNeighborsClassifier\n",
        "from sklearn.ensemble import RandomForestClassifier,AdaBoostClassifier,GradientBoostingClassifier\n",
        "from sklearn.naive_bayes import GaussianNB\n",
        "from sklearn.linear_model import LogisticRegression\n",
        "from sklearn.svm import SVC\n",
        "from sklearn.tree import DecisionTreeClassifier\n",
        "\n",
        "import joblib"
      ],
      "metadata": {
        "id": "-4didI7QaPsC"
      },
      "execution_count": 9,
      "outputs": []
    },
    {
      "cell_type": "code",
      "source": [
        "# Replace email addresses with 'email'\n",
        "train_df['comment_text'] = train_df['comment_text'].str.replace(r'^.+@[^\\.].*\\.[a-z]{2,}$','emailaddress')\n",
        "\n",
        "# Replace URLs with 'webaddress'\n",
        "train_df['comment_text'] = train_df['comment_text'].str.replace(r'^http\\://[a-zA-Z0-9\\-\\.]+\\.[a-zA-Z]{2,3}(/\\S*)?$','webaddress')\n",
        "\n",
        "# Replace money symbols with 'moneysymb' (£ can by typed with ALT key + 156)\n",
        "train_df['comment_text'] = train_df['comment_text'].str.replace(r'£|\\$', 'dollers')\n",
        "    \n",
        "# Replace 10 digit phone numbers (formats include paranthesis, spaces, no spaces, dashes) with 'phonenumber'\n",
        "train_df['comment_text'] = train_df['comment_text'].str.replace(r'^\\(?[\\d]{3}\\)?[\\s-]?[\\d]{3}[\\s-]?[\\d]{4}$','phonenumber')\n",
        "   \n",
        "# Replace numbers with 'number'\n",
        "train_df['comment_text'] = train_df['comment_text'].str.replace(r'\\d+(\\.\\d+)?', 'number')\n",
        "# Remove punctuation\n",
        "train_df['comment_text'] = train_df['comment_text'].str.replace(r'[^\\w\\d\\s]', ' ')\n",
        "\n",
        "# Replace whitespace between terms with a single space\n",
        "train_df['comment_text'] = train_df['comment_text'].str.replace(r'\\s+', ' ')\n",
        "\n",
        "# Remove leading and trailing whitespace\n",
        "train_df['comment_text'] = train_df['comment_text'].str.replace(r'^\\s+|\\s+?$', '')"
      ],
      "metadata": {
        "colab": {
          "base_uri": "https://localhost:8080/"
        },
        "id": "tli6-0tnbm16",
        "outputId": "ac4a042c-9f61-417d-8f13-fc69686b1a76"
      },
      "execution_count": 10,
      "outputs": [
        {
          "output_type": "stream",
          "name": "stderr",
          "text": [
            "<ipython-input-10-e5a7f61a63c3>:2: FutureWarning: The default value of regex will change from True to False in a future version.\n",
            "  train_df['comment_text'] = train_df['comment_text'].str.replace(r'^.+@[^\\.].*\\.[a-z]{2,}$','emailaddress')\n",
            "<ipython-input-10-e5a7f61a63c3>:5: FutureWarning: The default value of regex will change from True to False in a future version.\n",
            "  train_df['comment_text'] = train_df['comment_text'].str.replace(r'^http\\://[a-zA-Z0-9\\-\\.]+\\.[a-zA-Z]{2,3}(/\\S*)?$','webaddress')\n",
            "<ipython-input-10-e5a7f61a63c3>:8: FutureWarning: The default value of regex will change from True to False in a future version.\n",
            "  train_df['comment_text'] = train_df['comment_text'].str.replace(r'£|\\$', 'dollers')\n",
            "<ipython-input-10-e5a7f61a63c3>:11: FutureWarning: The default value of regex will change from True to False in a future version.\n",
            "  train_df['comment_text'] = train_df['comment_text'].str.replace(r'^\\(?[\\d]{3}\\)?[\\s-]?[\\d]{3}[\\s-]?[\\d]{4}$','phonenumber')\n",
            "<ipython-input-10-e5a7f61a63c3>:14: FutureWarning: The default value of regex will change from True to False in a future version.\n",
            "  train_df['comment_text'] = train_df['comment_text'].str.replace(r'\\d+(\\.\\d+)?', 'number')\n",
            "<ipython-input-10-e5a7f61a63c3>:16: FutureWarning: The default value of regex will change from True to False in a future version.\n",
            "  train_df['comment_text'] = train_df['comment_text'].str.replace(r'[^\\w\\d\\s]', ' ')\n",
            "<ipython-input-10-e5a7f61a63c3>:19: FutureWarning: The default value of regex will change from True to False in a future version.\n",
            "  train_df['comment_text'] = train_df['comment_text'].str.replace(r'\\s+', ' ')\n",
            "<ipython-input-10-e5a7f61a63c3>:22: FutureWarning: The default value of regex will change from True to False in a future version.\n",
            "  train_df['comment_text'] = train_df['comment_text'].str.replace(r'^\\s+|\\s+?$', '')\n"
          ]
        }
      ]
    },
    {
      "cell_type": "code",
      "source": [
        "hams = train_df['comment_text'][train_df['malignant']==1]\n",
        "hams\n"
      ],
      "metadata": {
        "colab": {
          "base_uri": "https://localhost:8080/"
        },
        "id": "vOSN4hDjc5Yt",
        "outputId": "985b9995-bd38-4c6d-f897-fe2787bf610f"
      },
      "execution_count": 11,
      "outputs": [
        {
          "output_type": "execute_result",
          "data": {
            "text/plain": [
              "6              COCKSUCKER BEFORE YOU PISS AROUND ON MY WORK\n",
              "12        Hey what is it talk What is it an exclusive gr...\n",
              "16        Bye Don t look come or think of comming back T...\n",
              "42        You are gay or antisemmitian Archangel WHite T...\n",
              "43                   FUCK YOUR FILTHY MOTHER IN THE ASS DRY\n",
              "                                ...                        \n",
              "159494    our previous conversation you fucking shit eat...\n",
              "159514                    YOU ARE A MISCHIEVIOUS PUBIC HAIR\n",
              "159541    Your absurd edits Your absurd edits on great w...\n",
              "159546    Hey listen don t you ever Delete my edits ever...\n",
              "159554    and i m going to keep posting the stuff u dele...\n",
              "Name: comment_text, Length: 15294, dtype: object"
            ]
          },
          "metadata": {},
          "execution_count": 11
        }
      ]
    },
    {
      "cell_type": "code",
      "source": [
        "spam_cloud = WordCloud(width=600, height=400, background_color = 'black', max_words=50).generate(''. join(hams))\n",
        "plt.figure(figsize=(10,8), facecolor='k')\n",
        "plt.imshow(spam_cloud)\n",
        "plt.axis('off')\n",
        "plt.tight_layout(pad=0)\n",
        "plt.show()"
      ],
      "metadata": {
        "colab": {
          "base_uri": "https://localhost:8080/",
          "height": 511
        },
        "id": "0AlZY9UtdQD-",
        "outputId": "0e62a34d-5a32-47be-c5d9-f0213f392d41"
      },
      "execution_count": 12,
      "outputs": [
        {
          "output_type": "display_data",
          "data": {
            "text/plain": [
              "<Figure size 720x576 with 1 Axes>"
            ],
            "image/png": "[encoded data removed]"
          },
          "metadata": {}
        }
      ]
    },
    {
      "cell_type": "code",
      "source": [
        "lemmatizer = WordNetLemmatizer()\n",
        "stemmer = PorterStemmer()"
      ],
      "metadata": {
        "id": "qHxvC0i-dgnK"
      },
      "execution_count": 13,
      "outputs": []
    },
    {
      "cell_type": "code",
      "source": [
        "test_df = pd.read_csv('malignant-comment-classification/train.csv')\n"
      ],
      "metadata": {
        "id": "59PEVsSQdtjm"
      },
      "execution_count": 14,
      "outputs": []
    },
    {
      "cell_type": "code",
      "source": [
        "test_df.shape"
      ],
      "metadata": {
        "colab": {
          "base_uri": "https://localhost:8080/"
        },
        "id": "Pnlni0ZUhRkh",
        "outputId": "2b7ab7fe-5c5c-4b92-8477-79c7ffcd3cc2"
      },
      "execution_count": 15,
      "outputs": [
        {
          "output_type": "execute_result",
          "data": {
            "text/plain": [
              "(159571, 8)"
            ]
          },
          "metadata": {},
          "execution_count": 15
        }
      ]
    },
    {
      "cell_type": "code",
      "source": [
        "test_df = test_df.sample(10000)\n"
      ],
      "metadata": {
        "id": "GXntZbefhV2t"
      },
      "execution_count": 16,
      "outputs": []
    },
    {
      "cell_type": "code",
      "source": [
        "test_df['comment_text'] = test_df['comment_text'].str.replace(r'^\\s+/\\s+?$' , '')\n"
      ],
      "metadata": {
        "colab": {
          "base_uri": "https://localhost:8080/"
        },
        "id": "Sx7wZTKliGvD",
        "outputId": "d596a437-3671-4e1a-c746-6e13ca06e36a"
      },
      "execution_count": 18,
      "outputs": [
        {
          "output_type": "stream",
          "name": "stderr",
          "text": [
            "<ipython-input-18-adbae32f092e>:1: FutureWarning: The default value of regex will change from True to False in a future version.\n",
            "  test_df['comment_text'] = test_df['comment_text'].str.replace(r'^\\s+/\\s+?$' , '')\n"
          ]
        }
      ]
    },
    {
      "cell_type": "markdown",
      "source": [],
      "metadata": {
        "id": "Wik8GGIvhr-W"
      }
    },
    {
      "cell_type": "code",
      "source": [
        "test_df.isnull().sum()"
      ],
      "metadata": {
        "colab": {
          "base_uri": "https://localhost:8080/"
        },
        "id": "40cRKKALhsai",
        "outputId": "10a8744d-8ca8-4435-f293-e589e0f4d0a6"
      },
      "execution_count": 19,
      "outputs": [
        {
          "output_type": "execute_result",
          "data": {
            "text/plain": [
              "id                  0\n",
              "comment_text        0\n",
              "malignant           0\n",
              "highly_malignant    0\n",
              "rude                0\n",
              "threat              0\n",
              "abuse               0\n",
              "loathe              0\n",
              "dtype: int64"
            ]
          },
          "metadata": {},
          "execution_count": 19
        }
      ]
    },
    {
      "cell_type": "code",
      "source": [
        "test_df.head(15)"
      ],
      "metadata": {
        "colab": {
          "base_uri": "https://localhost:8080/",
          "height": 520
        },
        "id": "sfQy3o0xh6E8",
        "outputId": "559ac39c-de7e-4efb-d411-53098d94b5e7"
      },
      "execution_count": 20,
      "outputs": [
        {
          "output_type": "execute_result",
          "data": {
            "text/plain": [
              "                      id                                       comment_text  \\\n",
              "90396   f1e6a412a5f1653d  \"\\n\\n Why your page was deleted \\n\\nFirst of a...   \n",
              "93858   faf8e97c31d2a06f  \"\\nIf you look at the comments from the last F...   \n",
              "40927   6d38d1230c99f501  Mike. did it ever occur to your magnificent mi...   \n",
              "26536   464d96112d1a72fd  \"==Your edit to Liliuokalani==\\nWelcome, and t...   \n",
              "4479    0beb05332897d1da  Trevithj:   The reason sources discussing the ...   \n",
              "112700  5ae14dd1dd89e899  Nyttend \\n\\nI've just spent quite a few minute...   \n",
              "113953  6179ee101f1b645a  Carlos Tevez \\n\\nMate you might wanna check bb...   \n",
              "118825  7b105642b21a7885  \"\\n\\n Note about Murder In Greenwich \\n I was ...   \n",
              "94264   fc1cc856a201713f  \"\\n\\n Larklight trilogy \\n\\nHi,\\n\\nRe. Larklig...   \n",
              "159540  ff9e91b29b89c5fa  I find this block ridiculous and a kick in the...   \n",
              "92532   f770eea0d0689360  Thanks for experimenting with Wikipedia.  Your...   \n",
              "77722   d02d990b5918c452  My own page \\n\\nThis is my own page. Why can't...   \n",
              "80772   d81d1df7fbd0b494              Thank you for the notification, Ronz.   \n",
              "87300   e995b0fc4cc95626                               yahoo mail \\n\\nHello   \n",
              "130460  b9e29d82a34629c0  \"\\n\\n Note: I haven't read the entire discussi...   \n",
              "\n",
              "        malignant  highly_malignant  rude  threat  abuse  loathe  \n",
              "90396           0                 0     0       0      0       0  \n",
              "93858           0                 0     0       0      0       0  \n",
              "40927           0                 0     0       0      0       0  \n",
              "26536           0                 0     0       0      0       0  \n",
              "4479            0                 0     0       0      0       0  \n",
              "112700          0                 0     0       0      0       0  \n",
              "113953          0                 0     0       0      0       0  \n",
              "118825          0                 0     0       0      0       0  \n",
              "94264           0                 0     0       0      0       0  \n",
              "159540          0                 0     0       0      0       0  \n",
              "92532           0                 0     0       0      0       0  \n",
              "77722           0                 0     0       0      0       0  \n",
              "80772           0                 0     0       0      0       0  \n",
              "87300           0                 0     0       0      0       0  \n",
              "130460          0                 0     0       0      0       0  "
            ],
            "text/html": [
              "\n",
              "  <div id=\"df-cd7fc4f9-f4e2-4548-a8ff-49d01c0a1dd2\">\n",
              "    <div class=\"colab-df-container\">\n",
              "      <div>\n",
              "<style scoped>\n",
              "    .dataframe tbody tr th:only-of-type {\n",
              "        vertical-align: middle;\n",
              "    }\n",
              "\n",
              "    .dataframe tbody tr th {\n",
              "        vertical-align: top;\n",
              "    }\n",
              "\n",
              "    .dataframe thead th {\n",
              "        text-align: right;\n",
              "    }\n",
              "</style>\n",
              "<table border=\"1\" class=\"dataframe\">\n",
              "  <thead>\n",
              "    <tr style=\"text-align: right;\">\n",
              "      <th></th>\n",
              "      <th>id</th>\n",
              "      <th>comment_text</th>\n",
              "      <th>malignant</th>\n",
              "      <th>highly_malignant</th>\n",
              "      <th>rude</th>\n",
              "      <th>threat</th>\n",
              "      <th>abuse</th>\n",
              "      <th>loathe</th>\n",
              "    </tr>\n",
              "  </thead>\n",
              "  <tbody>\n",
              "    <tr>\n",
              "      <th>90396</th>\n",
              "      <td>f1e6a412a5f1653d</td>\n",
              "      <td>\"\\n\\n Why your page was deleted \\n\\nFirst of a...</td>\n",
              "      <td>0</td>\n",
              "      <td>0</td>\n",
              "      <td>0</td>\n",
              "      <td>0</td>\n",
              "      <td>0</td>\n",
              "      <td>0</td>\n",
              "    </tr>\n",
              "    <tr>\n",
              "      <th>93858</th>\n",
              "      <td>faf8e97c31d2a06f</td>\n",
              "      <td>\"\\nIf you look at the comments from the last F...</td>\n",
              "      <td>0</td>\n",
              "      <td>0</td>\n",
              "      <td>0</td>\n",
              "      <td>0</td>\n",
              "      <td>0</td>\n",
              "      <td>0</td>\n",
              "    </tr>\n",
              "    <tr>\n",
              "      <th>40927</th>\n",
              "      <td>6d38d1230c99f501</td>\n",
              "      <td>Mike. did it ever occur to your magnificent mi...</td>\n",
              "      <td>0</td>\n",
              "      <td>0</td>\n",
              "      <td>0</td>\n",
              "      <td>0</td>\n",
              "      <td>0</td>\n",
              "      <td>0</td>\n",
              "    </tr>\n",
              "    <tr>\n",
              "      <th>26536</th>\n",
              "      <td>464d96112d1a72fd</td>\n",
              "      <td>\"==Your edit to Liliuokalani==\\nWelcome, and t...</td>\n",
              "      <td>0</td>\n",
              "      <td>0</td>\n",
              "      <td>0</td>\n",
              "      <td>0</td>\n",
              "      <td>0</td>\n",
              "      <td>0</td>\n",
              "    </tr>\n",
              "    <tr>\n",
              "      <th>4479</th>\n",
              "      <td>0beb05332897d1da</td>\n",
              "      <td>Trevithj:   The reason sources discussing the ...</td>\n",
              "      <td>0</td>\n",
              "      <td>0</td>\n",
              "      <td>0</td>\n",
              "      <td>0</td>\n",
              "      <td>0</td>\n",
              "      <td>0</td>\n",
              "    </tr>\n",
              "    <tr>\n",
              "      <th>112700</th>\n",
              "      <td>5ae14dd1dd89e899</td>\n",
              "      <td>Nyttend \\n\\nI've just spent quite a few minute...</td>\n",
              "      <td>0</td>\n",
              "      <td>0</td>\n",
              "      <td>0</td>\n",
              "      <td>0</td>\n",
              "      <td>0</td>\n",
              "      <td>0</td>\n",
              "    </tr>\n",
              "    <tr>\n",
              "      <th>113953</th>\n",
              "      <td>6179ee101f1b645a</td>\n",
              "      <td>Carlos Tevez \\n\\nMate you might wanna check bb...</td>\n",
              "      <td>0</td>\n",
              "      <td>0</td>\n",
              "      <td>0</td>\n",
              "      <td>0</td>\n",
              "      <td>0</td>\n",
              "      <td>0</td>\n",
              "    </tr>\n",
              "    <tr>\n",
              "      <th>118825</th>\n",
              "      <td>7b105642b21a7885</td>\n",
              "      <td>\"\\n\\n Note about Murder In Greenwich \\n I was ...</td>\n",
              "      <td>0</td>\n",
              "      <td>0</td>\n",
              "      <td>0</td>\n",
              "      <td>0</td>\n",
              "      <td>0</td>\n",
              "      <td>0</td>\n",
              "    </tr>\n",
              "    <tr>\n",
              "      <th>94264</th>\n",
              "      <td>fc1cc856a201713f</td>\n",
              "      <td>\"\\n\\n Larklight trilogy \\n\\nHi,\\n\\nRe. Larklig...</td>\n",
              "      <td>0</td>\n",
              "      <td>0</td>\n",
              "      <td>0</td>\n",
              "      <td>0</td>\n",
              "      <td>0</td>\n",
              "      <td>0</td>\n",
              "    </tr>\n",
              "    <tr>\n",
              "      <th>159540</th>\n",
              "      <td>ff9e91b29b89c5fa</td>\n",
              "      <td>I find this block ridiculous and a kick in the...</td>\n",
              "      <td>0</td>\n",
              "      <td>0</td>\n",
              "      <td>0</td>\n",
              "      <td>0</td>\n",
              "      <td>0</td>\n",
              "      <td>0</td>\n",
              "    </tr>\n",
              "    <tr>\n",
              "      <th>92532</th>\n",
              "      <td>f770eea0d0689360</td>\n",
              "      <td>Thanks for experimenting with Wikipedia.  Your...</td>\n",
              "      <td>0</td>\n",
              "      <td>0</td>\n",
              "      <td>0</td>\n",
              "      <td>0</td>\n",
              "      <td>0</td>\n",
              "      <td>0</td>\n",
              "    </tr>\n",
              "    <tr>\n",
              "      <th>77722</th>\n",
              "      <td>d02d990b5918c452</td>\n",
              "      <td>My own page \\n\\nThis is my own page. Why can't...</td>\n",
              "      <td>0</td>\n",
              "      <td>0</td>\n",
              "      <td>0</td>\n",
              "      <td>0</td>\n",
              "      <td>0</td>\n",
              "      <td>0</td>\n",
              "    </tr>\n",
              "    <tr>\n",
              "      <th>80772</th>\n",
              "      <td>d81d1df7fbd0b494</td>\n",
              "      <td>Thank you for the notification, Ronz.</td>\n",
              "      <td>0</td>\n",
              "      <td>0</td>\n",
              "      <td>0</td>\n",
              "      <td>0</td>\n",
              "      <td>0</td>\n",
              "      <td>0</td>\n",
              "    </tr>\n",
              "    <tr>\n",
              "      <th>87300</th>\n",
              "      <td>e995b0fc4cc95626</td>\n",
              "      <td>yahoo mail \\n\\nHello</td>\n",
              "      <td>0</td>\n",
              "      <td>0</td>\n",
              "      <td>0</td>\n",
              "      <td>0</td>\n",
              "      <td>0</td>\n",
              "      <td>0</td>\n",
              "    </tr>\n",
              "    <tr>\n",
              "      <th>130460</th>\n",
              "      <td>b9e29d82a34629c0</td>\n",
              "      <td>\"\\n\\n Note: I haven't read the entire discussi...</td>\n",
              "      <td>0</td>\n",
              "      <td>0</td>\n",
              "      <td>0</td>\n",
              "      <td>0</td>\n",
              "      <td>0</td>\n",
              "      <td>0</td>\n",
              "    </tr>\n",
              "  </tbody>\n",
              "</table>\n",
              "</div>\n",
              "      <button class=\"colab-df-convert\" onclick=\"convertToInteractive('df-cd7fc4f9-f4e2-4548-a8ff-49d01c0a1dd2')\"\n",
              "              title=\"Convert this dataframe to an interactive table.\"\n",
              "              style=\"display:none;\">\n",
              "        \n",
              "  <svg xmlns=\"http://www.w3.org/2000/svg\" height=\"24px\"viewBox=\"0 0 24 24\"\n",
              "       width=\"24px\">\n",
              "    <path d=\"M0 0h24v24H0V0z\" fill=\"none\"/>\n",
              "    <path d=\"M18.56 5.44l.94 2.06.94-2.06 2.06-.94-2.06-.94-.94-2.06-.94 2.06-2.06.94zm-11 1L8.5 8.5l.94-2.06 2.06-.94-2.06-.94L8.5 2.5l-.94 2.06-2.06.94zm10 10l.94 2.06.94-2.06 2.06-.94-2.06-.94-.94-2.06-.94 2.06-2.06.94z\"/><path d=\"M17.41 7.96l-1.37-1.37c-.4-.4-.92-.59-1.43-.59-.52 0-1.04.2-1.43.59L10.3 9.45l-7.72 7.72c-.78.78-.78 2.05 0 2.83L4 21.41c.39.39.9.59 1.41.59.51 0 1.02-.2 1.41-.59l7.78-7.78 2.81-2.81c.8-.78.8-2.07 0-2.86zM5.41 20L4 18.59l7.72-7.72 1.47 1.35L5.41 20z\"/>\n",
              "  </svg>\n",
              "      </button>\n",
              "      \n",
              "  <style>\n",
              "    .colab-df-container {\n",
              "      display:flex;\n",
              "      flex-wrap:wrap;\n",
              "      gap: 12px;\n",
              "    }\n",
              "\n",
              "    .colab-df-convert {\n",
              "      background-color: #E8F0FE;\n",
              "      border: none;\n",
              "      border-radius: 50%;\n",
              "      cursor: pointer;\n",
              "      display: none;\n",
              "      fill: #1967D2;\n",
              "      height: 32px;\n",
              "      padding: 0 0 0 0;\n",
              "      width: 32px;\n",
              "    }\n",
              "\n",
              "    .colab-df-convert:hover {\n",
              "      background-color: #E2EBFA;\n",
              "      box-shadow: 0px 1px 2px rgba(60, 64, 67, 0.3), 0px 1px 3px 1px rgba(60, 64, 67, 0.15);\n",
              "      fill: #174EA6;\n",
              "    }\n",
              "\n",
              "    [theme=dark] .colab-df-convert {\n",
              "      background-color: #3B4455;\n",
              "      fill: #D2E3FC;\n",
              "    }\n",
              "\n",
              "    [theme=dark] .colab-df-convert:hover {\n",
              "      background-color: #434B5C;\n",
              "      box-shadow: 0px 1px 3px 1px rgba(0, 0, 0, 0.15);\n",
              "      filter: drop-shadow(0px 1px 2px rgba(0, 0, 0, 0.3));\n",
              "      fill: #FFFFFF;\n",
              "    }\n",
              "  </style>\n",
              "\n",
              "      <script>\n",
              "        const buttonEl =\n",
              "          document.querySelector('#df-cd7fc4f9-f4e2-4548-a8ff-49d01c0a1dd2 button.colab-df-convert');\n",
              "        buttonEl.style.display =\n",
              "          google.colab.kernel.accessAllowed ? 'block' : 'none';\n",
              "\n",
              "        async function convertToInteractive(key) {\n",
              "          const element = document.querySelector('#df-cd7fc4f9-f4e2-4548-a8ff-49d01c0a1dd2');\n",
              "          const dataTable =\n",
              "            await google.colab.kernel.invokeFunction('convertToInteractive',\n",
              "                                                     [key], {});\n",
              "          if (!dataTable) return;\n",
              "\n",
              "          const docLinkHtml = 'Like what you see? Visit the ' +\n",
              "            '<a target=\"_blank\" href=https://colab.research.google.com/notebooks/data_table.ipynb>data table notebook</a>'\n",
              "            + ' to learn more about interactive tables.';\n",
              "          element.innerHTML = '';\n",
              "          dataTable['output_type'] = 'display_data';\n",
              "          await google.colab.output.renderOutput(dataTable, element);\n",
              "          const docLink = document.createElement('div');\n",
              "          docLink.innerHTML = docLinkHtml;\n",
              "          element.appendChild(docLink);\n",
              "        }\n",
              "      </script>\n",
              "    </div>\n",
              "  </div>\n",
              "  "
            ]
          },
          "metadata": {},
          "execution_count": 20
        }
      ]
    },
    {
      "cell_type": "code",
      "source": [
        "df.shape"
      ],
      "metadata": {
        "colab": {
          "base_uri": "https://localhost:8080/"
        },
        "id": "m13jhMoTe1Jh",
        "outputId": "e18e4f4b-9fbb-4314-831f-4474937bb2f6"
      },
      "execution_count": 35,
      "outputs": [
        {
          "output_type": "execute_result",
          "data": {
            "text/plain": [
              "(50000, 8)"
            ]
          },
          "metadata": {},
          "execution_count": 35
        }
      ]
    },
    {
      "cell_type": "code",
      "source": [
        "df = df.sample(20000)\n",
        "train_df = train_df.sample(20000)"
      ],
      "metadata": {
        "id": "ayYVN1Fce3mT"
      },
      "execution_count": 21,
      "outputs": []
    },
    {
      "cell_type": "code",
      "source": [
        "df = train_df"
      ],
      "metadata": {
        "id": "Q2zB_vAVfJAl"
      },
      "execution_count": 22,
      "outputs": []
    },
    {
      "cell_type": "code",
      "source": [
        "train_df.reset_index(inplace=True) \n"
      ],
      "metadata": {
        "id": "NUZ7FBg2kE8v"
      },
      "execution_count": 23,
      "outputs": []
    },
    {
      "cell_type": "code",
      "source": [
        "test_df.reset_index(inplace = True)"
      ],
      "metadata": {
        "id": "obNEKR72kKkb"
      },
      "execution_count": 24,
      "outputs": []
    },
    {
      "cell_type": "code",
      "source": [
        "for i in range(len(test_df['comment_text'])):\n",
        "    test_df['comment_text'][i] = test_df['comment_text'][i].lower()\n",
        "    j = []\n",
        "    for word in test_df['comment_text'][i].split():\n",
        "        j.append(lemmatizer.lemmatize(word, pos=\"v\"))\n",
        "        test_df['comment_text'][i] = \"\".join(j)"
      ],
      "metadata": {
        "colab": {
          "base_uri": "https://localhost:8080/"
        },
        "id": "GGQPHNUMd4F0",
        "outputId": "71edf02c-9c20-4d8a-f708-0d7a987e7b34"
      },
      "execution_count": 29,
      "outputs": [
        {
          "output_type": "stream",
          "name": "stderr",
          "text": [
            "<ipython-input-29-d2a1668e149b>:2: SettingWithCopyWarning: \n",
            "A value is trying to be set on a copy of a slice from a DataFrame\n",
            "\n",
            "See the caveats in the documentation: https://pandas.pydata.org/pandas-docs/stable/user_guide/indexing.html#returning-a-view-versus-a-copy\n",
            "  test_df['comment_text'][i] = test_df['comment_text'][i].lower()\n",
            "<ipython-input-29-d2a1668e149b>:6: SettingWithCopyWarning: \n",
            "A value is trying to be set on a copy of a slice from a DataFrame\n",
            "\n",
            "See the caveats in the documentation: https://pandas.pydata.org/pandas-docs/stable/user_guide/indexing.html#returning-a-view-versus-a-copy\n",
            "  test_df['comment_text'][i] = \"\".join(j)\n"
          ]
        }
      ]
    },
    {
      "cell_type": "code",
      "source": [
        "nltk.download('wordnet')"
      ],
      "metadata": {
        "colab": {
          "base_uri": "https://localhost:8080/"
        },
        "id": "qTVzDGnQeAc9",
        "outputId": "23165be7-4a99-4aaf-a24f-43c29c213f4f"
      },
      "execution_count": 26,
      "outputs": [
        {
          "output_type": "stream",
          "name": "stderr",
          "text": [
            "[nltk_data] Downloading package wordnet to /root/nltk_data...\n"
          ]
        },
        {
          "output_type": "execute_result",
          "data": {
            "text/plain": [
              "True"
            ]
          },
          "metadata": {},
          "execution_count": 26
        }
      ]
    },
    {
      "cell_type": "code",
      "source": [
        "nltk.download('omw-1.4')"
      ],
      "metadata": {
        "colab": {
          "base_uri": "https://localhost:8080/"
        },
        "id": "Q9f8IgU_eFMx",
        "outputId": "8d205aa0-90d9-499b-f891-3cc380c96fc8"
      },
      "execution_count": 27,
      "outputs": [
        {
          "output_type": "stream",
          "name": "stderr",
          "text": [
            "[nltk_data] Downloading package omw-1.4 to /root/nltk_data...\n"
          ]
        },
        {
          "output_type": "execute_result",
          "data": {
            "text/plain": [
              "True"
            ]
          },
          "metadata": {},
          "execution_count": 27
        }
      ]
    },
    {
      "cell_type": "code",
      "source": [
        "for i in range(len(train_df['comment_text'])):\n",
        "    train_df['comment_text'][i] = train_df['comment_text'][i].lower()\n",
        "    j = []\n",
        "    for word in train_df['comment_text'][i].split():\n",
        "        j.append(lemmatizer.lemmatize(word, pos=\"v\"))\n",
        "        train_df['comment_text'][i] = \"\".join(j)"
      ],
      "metadata": {
        "colab": {
          "base_uri": "https://localhost:8080/"
        },
        "id": "InDXXjpVeMC0",
        "outputId": "465028dd-8af1-4064-f571-ca7b6a74f791"
      },
      "execution_count": 28,
      "outputs": [
        {
          "output_type": "stream",
          "name": "stderr",
          "text": [
            "<ipython-input-28-52d5407ca6ea>:2: SettingWithCopyWarning: \n",
            "A value is trying to be set on a copy of a slice from a DataFrame\n",
            "\n",
            "See the caveats in the documentation: https://pandas.pydata.org/pandas-docs/stable/user_guide/indexing.html#returning-a-view-versus-a-copy\n",
            "  train_df['comment_text'][i] = train_df['comment_text'][i].lower()\n",
            "<ipython-input-28-52d5407ca6ea>:6: SettingWithCopyWarning: \n",
            "A value is trying to be set on a copy of a slice from a DataFrame\n",
            "\n",
            "See the caveats in the documentation: https://pandas.pydata.org/pandas-docs/stable/user_guide/indexing.html#returning-a-view-versus-a-copy\n",
            "  train_df['comment_text'][i] = \"\".join(j)\n"
          ]
        }
      ]
    },
    {
      "cell_type": "code",
      "source": [
        "x = train_df.drop(['malignant'],axis=1)\n",
        "y = train_df['malignant']\n",
        "naive = MultinomialNB()"
      ],
      "metadata": {
        "id": "D1jFgcNGffpr"
      },
      "execution_count": 30,
      "outputs": []
    },
    {
      "cell_type": "code",
      "source": [
        "tf_vec = TfidfVectorizer()\n",
        "comment = train_df['comment_text']\n",
        "x = tf_vec.fit_transform(comment)\n",
        "x_train,x_test,y_train,y_test = train_test_split(x,y, random_state=42)\n",
        "naive.fit(x_train,y_train)"
      ],
      "metadata": {
        "colab": {
          "base_uri": "https://localhost:8080/"
        },
        "id": "V9Cl6nqetEvx",
        "outputId": "7c484f74-96fe-4d2c-8297-0c9fba23917e"
      },
      "execution_count": 31,
      "outputs": [
        {
          "output_type": "execute_result",
          "data": {
            "text/plain": [
              "MultinomialNB()"
            ]
          },
          "metadata": {},
          "execution_count": 31
        }
      ]
    },
    {
      "cell_type": "code",
      "source": [
        "y_pred = naive.predict(x_test)\n",
        "joblib.dump(y_pred, \"model\")"
      ],
      "metadata": {
        "colab": {
          "base_uri": "https://localhost:8080/"
        },
        "id": "G2lwBMDytJTL",
        "outputId": "528c8388-cbc3-40d1-e467-4a14a32edd9c"
      },
      "execution_count": 32,
      "outputs": [
        {
          "output_type": "execute_result",
          "data": {
            "text/plain": [
              "['model']"
            ]
          },
          "metadata": {},
          "execution_count": 32
        }
      ]
    },
    {
      "cell_type": "code",
      "source": [],
      "metadata": {
        "id": "KLx8uIUjSriy"
      },
      "execution_count": null,
      "outputs": []
    },
    {
      "cell_type": "code",
      "source": [
        "y_pred"
      ],
      "metadata": {
        "colab": {
          "base_uri": "https://localhost:8080/"
        },
        "id": "v1ZxLIvqtWXy",
        "outputId": "4ac3a3ac-a5b1-4dcf-c3e7-ea325473fe38"
      },
      "execution_count": 33,
      "outputs": [
        {
          "output_type": "execute_result",
          "data": {
            "text/plain": [
              "array([0, 0, 0, ..., 0, 0, 0])"
            ]
          },
          "metadata": {},
          "execution_count": 33
        }
      ]
    },
    {
      "cell_type": "code",
      "source": [
        "stat = [\"I FOUND YOU\",\"I HATE YOU\",\"FUCK YOU\" ]"
      ],
      "metadata": {
        "id": "lRZts7UgtlcS"
      },
      "execution_count": 4,
      "outputs": []
    },
    {
      "cell_type": "code",
      "source": [
        "for i in range(len(stat)):\n",
        "  stat[i] = stat[i].lower()\n",
        "#stat = stat.lower()"
      ],
      "metadata": {
        "id": "dRDFKEtmQuzw"
      },
      "execution_count": 8,
      "outputs": []
    },
    {
      "cell_type": "code",
      "source": [
        "stat"
      ],
      "metadata": {
        "colab": {
          "base_uri": "https://localhost:8080/"
        },
        "id": "fiNkvgSpRT41",
        "outputId": "7f145bcc-0971-4815-ced8-926cc28edf7e"
      },
      "execution_count": 9,
      "outputs": [
        {
          "output_type": "execute_result",
          "data": {
            "text/plain": [
              "['i found you', 'i hate you', 'fuck you']"
            ]
          },
          "metadata": {},
          "execution_count": 9
        }
      ]
    },
    {
      "cell_type": "code",
      "source": [
        "for i in range(len(stat)):\n",
        "  stat[i] = stat[i].lower()\n",
        "  j = []\n",
        "  for word in stat[i].split():\n",
        "    j.append(lemmatizer.lemmatize(word, pos=\"v\"))\n",
        "    stat[i] = \"\".join(j)"
      ],
      "metadata": {
        "colab": {
          "base_uri": "https://localhost:8080/",
          "height": 217
        },
        "id": "sDVLKn8XRVEK",
        "outputId": "ebaf2168-fbc6-4bdc-ccf9-a7a9c5b9490f"
      },
      "execution_count": 10,
      "outputs": [
        {
          "output_type": "error",
          "ename": "NameError",
          "evalue": "ignored",
          "traceback": [
            "\u001b[0;31m---------------------------------------------------------------------------\u001b[0m",
            "\u001b[0;31mNameError\u001b[0m                                 Traceback (most recent call last)",
            "\u001b[0;32m<ipython-input-10-94fe7c2f488e>\u001b[0m in \u001b[0;36m<module>\u001b[0;34m\u001b[0m\n\u001b[1;32m      3\u001b[0m   \u001b[0mj\u001b[0m \u001b[0;34m=\u001b[0m \u001b[0;34m[\u001b[0m\u001b[0;34m]\u001b[0m\u001b[0;34m\u001b[0m\u001b[0;34m\u001b[0m\u001b[0m\n\u001b[1;32m      4\u001b[0m   \u001b[0;32mfor\u001b[0m \u001b[0mword\u001b[0m \u001b[0;32min\u001b[0m \u001b[0mstat\u001b[0m\u001b[0;34m[\u001b[0m\u001b[0mi\u001b[0m\u001b[0;34m]\u001b[0m\u001b[0;34m.\u001b[0m\u001b[0msplit\u001b[0m\u001b[0;34m(\u001b[0m\u001b[0;34m)\u001b[0m\u001b[0;34m:\u001b[0m\u001b[0;34m\u001b[0m\u001b[0;34m\u001b[0m\u001b[0m\n\u001b[0;32m----> 5\u001b[0;31m     \u001b[0mj\u001b[0m\u001b[0;34m.\u001b[0m\u001b[0mappend\u001b[0m\u001b[0;34m(\u001b[0m\u001b[0mlemmatizer\u001b[0m\u001b[0;34m.\u001b[0m\u001b[0mlemmatize\u001b[0m\u001b[0;34m(\u001b[0m\u001b[0mword\u001b[0m\u001b[0;34m,\u001b[0m \u001b[0mpos\u001b[0m\u001b[0;34m=\u001b[0m\u001b[0;34m\"v\"\u001b[0m\u001b[0;34m)\u001b[0m\u001b[0;34m)\u001b[0m\u001b[0;34m\u001b[0m\u001b[0;34m\u001b[0m\u001b[0m\n\u001b[0m\u001b[1;32m      6\u001b[0m     \u001b[0mstat\u001b[0m\u001b[0;34m[\u001b[0m\u001b[0mi\u001b[0m\u001b[0;34m]\u001b[0m \u001b[0;34m=\u001b[0m \u001b[0;34m\"\"\u001b[0m\u001b[0;34m.\u001b[0m\u001b[0mjoin\u001b[0m\u001b[0;34m(\u001b[0m\u001b[0mj\u001b[0m\u001b[0;34m)\u001b[0m\u001b[0;34m\u001b[0m\u001b[0;34m\u001b[0m\u001b[0m\n",
            "\u001b[0;31mNameError\u001b[0m: name 'lemmatizer' is not defined"
          ]
        }
      ]
    },
    {
      "cell_type": "code",
      "source": [],
      "metadata": {
        "id": "d8sC3uYdSJS2"
      },
      "execution_count": null,
      "outputs": []
    }
  ]
}